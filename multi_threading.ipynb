{
  "nbformat": 4,
  "nbformat_minor": 0,
  "metadata": {
    "colab": {
      "provenance": []
    },
    "kernelspec": {
      "name": "python3",
      "display_name": "Python 3"
    },
    "language_info": {
      "name": "python"
    }
  },
  "cells": [
    {
      "cell_type": "code",
      "execution_count": 1,
      "metadata": {
        "colab": {
          "base_uri": "https://localhost:8080/"
        },
        "id": "iW3WqHd3wT11",
        "outputId": "a96650c5-f5a8-4907-ea58-268983aa08c1"
      },
      "outputs": [
        {
          "output_type": "stream",
          "name": "stdout",
          "text": [
            "OS Type:  posix\n"
          ]
        }
      ],
      "source": [
        "import os\n",
        "\n",
        "print (\"OS Type: \", os.name)"
      ]
    },
    {
      "cell_type": "code",
      "source": [
        "import sys\n",
        "\n",
        "print (\"OS Name: \", sys.platform)"
      ],
      "metadata": {
        "colab": {
          "base_uri": "https://localhost:8080/"
        },
        "id": "5e8-nOSxxWcy",
        "outputId": "610f066f-f0b3-4fda-bd02-c70cd2648ec9"
      },
      "execution_count": 2,
      "outputs": [
        {
          "output_type": "stream",
          "name": "stdout",
          "text": [
            "OS Name:  linux\n"
          ]
        }
      ]
    },
    {
      "cell_type": "code",
      "source": [
        "import platform\n",
        "\n",
        "print (\"OS Platform: \", platform.platform())"
      ],
      "metadata": {
        "colab": {
          "base_uri": "https://localhost:8080/"
        },
        "id": "KZ3eMlYyxWff",
        "outputId": "73350366-6abf-4401-e85f-475ed1642add"
      },
      "execution_count": 3,
      "outputs": [
        {
          "output_type": "stream",
          "name": "stdout",
          "text": [
            "OS Platform:  Linux-6.1.58+-x86_64-with-glibc2.35\n"
          ]
        }
      ]
    },
    {
      "cell_type": "code",
      "source": [
        "import multiprocessing\n",
        "\n",
        "numberOfCores = multiprocessing.cpu_count()\n",
        "print (\"Num of cores are: \", numberOfCores)"
      ],
      "metadata": {
        "colab": {
          "base_uri": "https://localhost:8080/"
        },
        "id": "HvNmpjdmxWiU",
        "outputId": "c2fb20b3-b7a1-423a-a9cd-5732fb6ea030"
      },
      "execution_count": 4,
      "outputs": [
        {
          "output_type": "stream",
          "name": "stdout",
          "text": [
            "Num of cores are:  2\n"
          ]
        }
      ]
    },
    {
      "cell_type": "code",
      "source": [
        "import threading\n",
        "\n",
        "activeThread = threading.activeCount()\n",
        "print (\"Num of threads: \",activeThread)"
      ],
      "metadata": {
        "colab": {
          "base_uri": "https://localhost:8080/"
        },
        "id": "glwZ9b-LxWkq",
        "outputId": "5b53557c-38a4-45b4-cee7-fb0b2f2f5676"
      },
      "execution_count": 5,
      "outputs": [
        {
          "output_type": "stream",
          "name": "stdout",
          "text": [
            "Num of threads:  5\n"
          ]
        },
        {
          "output_type": "stream",
          "name": "stderr",
          "text": [
            "<ipython-input-5-df3cf5bfd8c2>:3: DeprecationWarning: activeCount() is deprecated, use active_count() instead\n",
            "  activeThread = threading.activeCount()\n"
          ]
        }
      ]
    },
    {
      "cell_type": "code",
      "source": [
        "# Parameter Setting\n",
        "\n",
        "import random as r, string as s, shutil, os, time\n",
        "\n",
        "inputDirName = 'inputDirectory'\n",
        "totalFiles = 10\n",
        "fileSize = 10\n",
        "\n",
        "try:\n",
        "    # Delete input directory and then create it\n",
        "    shutil.rmtree(\"./%s/\"%(inputDirName))\n",
        "    os.mkdir(inputDirName)\n",
        "except:\n",
        "    # Create the input directory\n",
        "    os.mkdir(inputDirName)"
      ],
      "metadata": {
        "id": "kLOvkZiDxWm_"
      },
      "execution_count": 6,
      "outputs": []
    },
    {
      "cell_type": "code",
      "source": [
        " #Function to create file\n",
        "\n",
        "def task(fileName):\n",
        "    iteration=512\n",
        "    fileName=\"./%s/%s\"%(inputDirName,fileName)\n",
        "    while True:\n",
        "        fp = open(fileName,\"a\")   # Opening file in append mode\n",
        "        for j in range(iteration):\n",
        "          for k in range(iteration):\n",
        "            string=\" \".join(r.sample(s.ascii_letters,50))\n",
        "            fp.write(string + \"\\n\" + string + \"\\n\" + string + \"\\n\" + string + \"\\n\" + string + \"\\n\")\n",
        "        fp.close()\n",
        "        if  os.path.getsize(fileName) >= fileSize:\n",
        "            break\n",
        "    return None"
      ],
      "metadata": {
        "id": "OaSm813uxsV3"
      },
      "execution_count": 7,
      "outputs": []
    },
    {
      "cell_type": "code",
      "source": [
        "# Main Program\n",
        "\n",
        "import threading\n",
        "\n",
        "startTime = time.time()\n",
        "\n",
        "numberOfThreads = 5\n",
        "\n",
        "activeThreads = threading.active_count()\n",
        "\n",
        "# Main Program - Run Multiple Threads\n",
        "print(\"Program Started....\")\n",
        "\n",
        "for i in range(totalFiles):\n",
        "    fileName = \"test%d.txt\"%(i+1)\n",
        "    cmd = fileName\n",
        "    t = threading.Thread(target=task , args=(cmd,))\n",
        "    t.start()\n",
        "\n",
        "    print (\"Creating file %s\"%(fileName))\n",
        "\n",
        "    while True:\n",
        "      if threading.active_count() - activeThreads + 1 <= numberOfThreads:\n",
        "        break\n",
        "      time.sleep(1)\n",
        "\n",
        "\n",
        "\n",
        "# Waiting to finish all Threads\n",
        "while True:\n",
        "    if threading.active_count() == activeThreads:\n",
        "        break\n",
        "    else:\n",
        "        print (\"    Thread still running (left %d)...\"%(threading.active_count() - activeThreads))\n",
        "        time.sleep(1)\n",
        "\n",
        "print(\" All Thread ends\")\n",
        "\n",
        "print(\"Program Finished\")\n",
        "print(\"Total Time %f sec\" % (round( time.time() - startTime,4)))"
      ],
      "metadata": {
        "colab": {
          "base_uri": "https://localhost:8080/"
        },
        "id": "O5pbnLRlxsY0",
        "outputId": "a10495d5-3d08-45d4-8bc2-fe9fa54bbe73"
      },
      "execution_count": 8,
      "outputs": [
        {
          "output_type": "stream",
          "name": "stdout",
          "text": [
            "Program Started....\n",
            "Creating file test1.txt\n",
            "Creating file test2.txt\n",
            "Creating file test3.txt\n",
            "Creating file test4.txt\n",
            "Creating file test5.txt\n",
            "Creating file test6.txt\n",
            "Creating file test7.txt\n",
            "Creating file test8.txt\n",
            "Creating file test9.txt\n",
            "Creating file test10.txt\n",
            "    Thread still running (left 4)...\n",
            "    Thread still running (left 4)...\n",
            "    Thread still running (left 1)...\n",
            "    Thread still running (left 1)...\n",
            " All Thread ends\n",
            "Program Finished\n",
            "Total Time 99.789900 sec\n"
          ]
        }
      ]
    },
    {
      "cell_type": "code",
      "source": [
        "# Paramaneter Setting\n",
        "\n",
        "import random as r, string as s, shutil, os, time\n",
        "\n",
        "inputDirName = 'booksDirectory'\n",
        "outputDirName = 'outputDirectory'\n",
        "\n",
        "try:\n",
        "    # Delete input directory and then create it\n",
        "    shutil.rmtree(\"./%s/\"%(outputDirName))\n",
        "    os.mkdir(outputDirName)\n",
        "except:\n",
        "    # Create the input directory\n",
        "    os.mkdir(outputDirName)"
      ],
      "metadata": {
        "id": "fM5lHlk8xsbb"
      },
      "execution_count": 9,
      "outputs": []
    },
    {
      "cell_type": "code",
      "source": [
        "\n",
        "# Function to convert the file to upper case\n",
        "\n",
        "def task(fileName):\n",
        "    inFileName =\"./%s/%s\"%(inputDirName,fileName)\n",
        "    outFileName =\"./%s/%s\"%(outputDirName,fileName)\n",
        "\n",
        "    inFile = open(inFileName)\n",
        "    outFile = open(outFileName,\"w\")\n",
        "\n",
        "    for line in inFile:\n",
        "      outFile.write(line.upper())\n",
        "    inFile.close()\n",
        "    outFile.close()\n",
        "    return None"
      ],
      "metadata": {
        "id": "caDiuo6Wxsdw"
      },
      "execution_count": 10,
      "outputs": []
    },
    {
      "cell_type": "code",
      "source": [
        "# Main Program\n",
        "import time\n",
        "\n",
        "startTime = time.time()\n",
        "print(\"Program Started....\")\n",
        "\n",
        "for i in range(5):\n",
        "    fileName = \"book%d.txt\"%(i+1)\n",
        "    task(fileName)\n",
        "    if i%5 == 0:\n",
        "      print (\"Creating file %s\"%(fileName))\n",
        "\n",
        "print(\"\\nTotal Time %f sec\"%(round(time.time() - startTime,4)))\n",
        "print(\"Program Finished\")"
      ],
      "metadata": {
        "colab": {
          "base_uri": "https://localhost:8080/",
          "height": 343
        },
        "id": "b0Z4HAvUx1Jp",
        "outputId": "49ae093e-bf85-47e2-ee29-8dd2b975f40a"
      },
      "execution_count": 11,
      "outputs": [
        {
          "output_type": "stream",
          "name": "stdout",
          "text": [
            "Program Started....\n"
          ]
        },
        {
          "output_type": "error",
          "ename": "FileNotFoundError",
          "evalue": "[Errno 2] No such file or directory: './booksDirectory/book1.txt'",
          "traceback": [
            "\u001b[0;31m---------------------------------------------------------------------------\u001b[0m",
            "\u001b[0;31mFileNotFoundError\u001b[0m                         Traceback (most recent call last)",
            "\u001b[0;32m<ipython-input-11-8a73071467c5>\u001b[0m in \u001b[0;36m<cell line: 7>\u001b[0;34m()\u001b[0m\n\u001b[1;32m      7\u001b[0m \u001b[0;32mfor\u001b[0m \u001b[0mi\u001b[0m \u001b[0;32min\u001b[0m \u001b[0mrange\u001b[0m\u001b[0;34m(\u001b[0m\u001b[0;36m5\u001b[0m\u001b[0;34m)\u001b[0m\u001b[0;34m:\u001b[0m\u001b[0;34m\u001b[0m\u001b[0;34m\u001b[0m\u001b[0m\n\u001b[1;32m      8\u001b[0m     \u001b[0mfileName\u001b[0m \u001b[0;34m=\u001b[0m \u001b[0;34m\"book%d.txt\"\u001b[0m\u001b[0;34m%\u001b[0m\u001b[0;34m(\u001b[0m\u001b[0mi\u001b[0m\u001b[0;34m+\u001b[0m\u001b[0;36m1\u001b[0m\u001b[0;34m)\u001b[0m\u001b[0;34m\u001b[0m\u001b[0;34m\u001b[0m\u001b[0m\n\u001b[0;32m----> 9\u001b[0;31m     \u001b[0mtask\u001b[0m\u001b[0;34m(\u001b[0m\u001b[0mfileName\u001b[0m\u001b[0;34m)\u001b[0m\u001b[0;34m\u001b[0m\u001b[0;34m\u001b[0m\u001b[0m\n\u001b[0m\u001b[1;32m     10\u001b[0m     \u001b[0;32mif\u001b[0m \u001b[0mi\u001b[0m\u001b[0;34m%\u001b[0m\u001b[0;36m5\u001b[0m \u001b[0;34m==\u001b[0m \u001b[0;36m0\u001b[0m\u001b[0;34m:\u001b[0m\u001b[0;34m\u001b[0m\u001b[0;34m\u001b[0m\u001b[0m\n\u001b[1;32m     11\u001b[0m       \u001b[0mprint\u001b[0m \u001b[0;34m(\u001b[0m\u001b[0;34m\"Creating file %s\"\u001b[0m\u001b[0;34m%\u001b[0m\u001b[0;34m(\u001b[0m\u001b[0mfileName\u001b[0m\u001b[0;34m)\u001b[0m\u001b[0;34m)\u001b[0m\u001b[0;34m\u001b[0m\u001b[0;34m\u001b[0m\u001b[0m\n",
            "\u001b[0;32m<ipython-input-10-5ea911de8d3d>\u001b[0m in \u001b[0;36mtask\u001b[0;34m(fileName)\u001b[0m\n\u001b[1;32m      5\u001b[0m     \u001b[0moutFileName\u001b[0m \u001b[0;34m=\u001b[0m\u001b[0;34m\"./%s/%s\"\u001b[0m\u001b[0;34m%\u001b[0m\u001b[0;34m(\u001b[0m\u001b[0moutputDirName\u001b[0m\u001b[0;34m,\u001b[0m\u001b[0mfileName\u001b[0m\u001b[0;34m)\u001b[0m\u001b[0;34m\u001b[0m\u001b[0;34m\u001b[0m\u001b[0m\n\u001b[1;32m      6\u001b[0m \u001b[0;34m\u001b[0m\u001b[0m\n\u001b[0;32m----> 7\u001b[0;31m     \u001b[0minFile\u001b[0m \u001b[0;34m=\u001b[0m \u001b[0mopen\u001b[0m\u001b[0;34m(\u001b[0m\u001b[0minFileName\u001b[0m\u001b[0;34m)\u001b[0m\u001b[0;34m\u001b[0m\u001b[0;34m\u001b[0m\u001b[0m\n\u001b[0m\u001b[1;32m      8\u001b[0m     \u001b[0moutFile\u001b[0m \u001b[0;34m=\u001b[0m \u001b[0mopen\u001b[0m\u001b[0;34m(\u001b[0m\u001b[0moutFileName\u001b[0m\u001b[0;34m,\u001b[0m\u001b[0;34m\"w\"\u001b[0m\u001b[0;34m)\u001b[0m\u001b[0;34m\u001b[0m\u001b[0;34m\u001b[0m\u001b[0m\n\u001b[1;32m      9\u001b[0m \u001b[0;34m\u001b[0m\u001b[0m\n",
            "\u001b[0;31mFileNotFoundError\u001b[0m: [Errno 2] No such file or directory: './booksDirectory/book1.txt'"
          ]
        }
      ]
    },
    {
      "cell_type": "code",
      "source": [
        "# Main Program\n",
        "import threading\n",
        "\n",
        "startTime = time.time()\n",
        "\n",
        "numberOfThreads = 5\n",
        "\n",
        "activeThreads = threading.activeCount()\n",
        "\n",
        "# Main Program - Run Multiple Threads\n",
        "print(\"Program Started....\")\n",
        "\n",
        "for i in range(5):\n",
        "    fileName = \"book%d.txt\"%(i+1)\n",
        "    cmd = fileName\n",
        "    t = threading.Thread(target=task , args=(cmd,))\n",
        "    t.start()\n",
        "\n",
        "    print (\"Creating file %s\"%(fileName))\n",
        "\n",
        "    while True:\n",
        "      if threading.activeCount() - activeThreads + 1 <= numberOfThreads:\n",
        "        break\n",
        "      time.sleep(1)\n",
        "\n",
        "\n",
        "\n",
        "# Waiting to finish all Threads\n",
        "while True:\n",
        "    if threading.activeCount() == activeThreads:\n",
        "        break\n",
        "    else:\n",
        "        print (\"    Thread still running (left %d)...\"%(threading.activeCount() - activeThreads))\n",
        "        time.sleep(1)\n",
        "\n",
        "print(\" All Thread ends\")\n",
        "\n",
        "print(\"Program Finished\")\n",
        "print(\"Total Time %f sec\" % (round( time.time() - startTime,4)))"
      ],
      "metadata": {
        "id": "tUq8FXxfx4UQ"
      },
      "execution_count": null,
      "outputs": []
    },
    {
      "cell_type": "code",
      "source": [
        "\n",
        "import numpy as np\n",
        "import threading\n",
        "import time\n",
        "from tabulate import tabulate\n",
        "import matplotlib.pyplot as plt"
      ],
      "metadata": {
        "id": "KhA_qNcz1LyS"
      },
      "execution_count": null,
      "outputs": []
    },
    {
      "cell_type": "code",
      "source": [
        "\n",
        "def multiply(A, B, result, index):\n",
        "    result[index] = np.dot(A, B)\n",
        "\n",
        "def run_threads(num_threads):\n",
        "    start_time = time.time()\n",
        "    threads = []\n",
        "    for i, matrix in enumerate(matrices):\n",
        "        thread = threading.Thread(target=multiply, args=(A, matrix, results, i))\n",
        "        threads.append(thread)\n",
        "        thread.start()\n",
        "    for thread in threads:\n",
        "        thread.join()\n",
        "    end_time = time.time()\n",
        "    return end_time - start_time"
      ],
      "metadata": {
        "id": "lnPmpoxT1JF4"
      },
      "execution_count": null,
      "outputs": []
    },
    {
      "cell_type": "code",
      "source": [
        "\n",
        "A = np.random.rand(2000, 2000)\n",
        "\n",
        "results = [None] * 100\n",
        "\n",
        "matrices = [np.random.rand(2000, 2000) for _ in range(100)]\n",
        "\n",
        "results_table = []\n",
        "num_threads=list(range(1,11))\n",
        "time_taken=[]\n",
        "for num_t in num_threads:\n",
        "    ttime= run_threads(num_t)\n",
        "    time_taken.append(ttime)\n",
        "    results_table.append((\"T= \"+str(num_t), round(ttime,4)))\n",
        "\n",
        "ans = list(zip(*results_table))\n",
        "print(tabulate(ans,tablefmt=\"grid\", showindex=[\"Threads\", \"Time taken (sec)\"]))"
      ],
      "metadata": {
        "id": "v_2xAYbwx4Wl"
      },
      "execution_count": null,
      "outputs": []
    },
    {
      "cell_type": "code",
      "source": [
        "plt.plot(num_threads, time_taken)\n",
        "plt.xlabel('No of Threads')\n",
        "plt.ylabel('Time taken (sec)')\n",
        "plt.title('No of threads V/S time taken')\n",
        "plt.xticks(range(1,11))\n",
        "plt.grid(True)\n",
        "plt.show()\n",
        ""
      ],
      "metadata": {
        "id": "HJHhAPIj1FbS"
      },
      "execution_count": null,
      "outputs": []
    }
  ]
}